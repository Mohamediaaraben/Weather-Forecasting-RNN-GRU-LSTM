Recurrent Nerual Network for weather forecast
Some of interesting models, which are listed below, from the book, Deep Learning with Python by Francois Chollet were taken.

Gated Recurrent Unit (GRU)
GRU with dropouts
Stacking GRU layers

import os
import numpy as np

import keras
keras.__version__
